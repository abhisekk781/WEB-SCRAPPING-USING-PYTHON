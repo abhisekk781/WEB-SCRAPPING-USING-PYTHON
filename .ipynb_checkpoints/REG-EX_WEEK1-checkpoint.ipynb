{
 "cells": [
  {
   "cell_type": "code",
   "execution_count": 30,
   "metadata": {},
   "outputs": [],
   "source": [
    "import re\n",
    "text=open(\"regex_sum_244806.txt\")\n",
    "x=[]\n",
    "for line in text:\n",
    "    x.append(re.findall('[0-9]+',line))\n",
    "\n",
    "x = list(filter(None, x))\n",
    "\n",
    "new_list=[]\n",
    "for i in range(len(x)):\n",
    "    sublist=x[i]\n",
    "    for item in sublist:\n",
    "        new_list.append(int(item))\n",
    "        \n",
    "        \n",
    "sum(new_list)        "
   ]
  },
  {
   "cell_type": "code",
   "execution_count": 31,
   "metadata": {},
   "outputs": [
    {
     "data": {
      "text/plain": [
       "471242"
      ]
     },
     "execution_count": 31,
     "metadata": {},
     "output_type": "execute_result"
    }
   ],
   "source": []
  }
 ],
 "metadata": {
  "kernelspec": {
   "display_name": "Python 3",
   "language": "python",
   "name": "python3"
  },
  "language_info": {
   "codemirror_mode": {
    "name": "ipython",
    "version": 3
   },
   "file_extension": ".py",
   "mimetype": "text/x-python",
   "name": "python",
   "nbconvert_exporter": "python",
   "pygments_lexer": "ipython3",
   "version": "3.6.5"
  }
 },
 "nbformat": 4,
 "nbformat_minor": 2
}
